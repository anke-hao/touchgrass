{
 "cells": [
  {
   "cell_type": "code",
   "execution_count": 1,
   "metadata": {},
   "outputs": [
    {
     "name": "stdout",
     "output_type": "stream",
     "text": [
      "Collecting google-maps-placesNote: you may need to restart the kernel to use updated packages.\n",
      "\n",
      "  Downloading google_maps_places-0.1.15-py3-none-any.whl.metadata (5.2 kB)\n",
      "Requirement already satisfied: google-api-core!=2.0.*,!=2.1.*,!=2.10.*,!=2.2.*,!=2.3.*,!=2.4.*,!=2.5.*,!=2.6.*,!=2.7.*,!=2.8.*,!=2.9.*,<3.0.0dev,>=1.34.1 in c:\\users\\anke_\\genaiwork\\touchgrass\\.venv\\lib\\site-packages (from google-api-core[grpc]!=2.0.*,!=2.1.*,!=2.10.*,!=2.2.*,!=2.3.*,!=2.4.*,!=2.5.*,!=2.6.*,!=2.7.*,!=2.8.*,!=2.9.*,<3.0.0dev,>=1.34.1->google-maps-places) (2.19.0)\n",
      "Requirement already satisfied: google-auth!=2.24.0,!=2.25.0,<3.0.0dev,>=2.14.1 in c:\\users\\anke_\\genaiwork\\touchgrass\\.venv\\lib\\site-packages (from google-maps-places) (2.30.0)\n",
      "Requirement already satisfied: proto-plus<2.0.0dev,>=1.22.3 in c:\\users\\anke_\\genaiwork\\touchgrass\\.venv\\lib\\site-packages (from google-maps-places) (1.24.0)\n",
      "Requirement already satisfied: protobuf!=3.20.0,!=3.20.1,!=4.21.0,!=4.21.1,!=4.21.2,!=4.21.3,!=4.21.4,!=4.21.5,<5.0.0dev,>=3.19.5 in c:\\users\\anke_\\genaiwork\\touchgrass\\.venv\\lib\\site-packages (from google-maps-places) (4.25.3)\n",
      "Collecting google-geo-type<1.0.0dev,>=0.1.0 (from google-maps-places)\n",
      "  Downloading google_geo_type-0.3.7-py3-none-any.whl.metadata (5.0 kB)\n",
      "Requirement already satisfied: googleapis-common-protos<2.0.dev0,>=1.56.2 in c:\\users\\anke_\\genaiwork\\touchgrass\\.venv\\lib\\site-packages (from google-api-core!=2.0.*,!=2.1.*,!=2.10.*,!=2.2.*,!=2.3.*,!=2.4.*,!=2.5.*,!=2.6.*,!=2.7.*,!=2.8.*,!=2.9.*,<3.0.0dev,>=1.34.1->google-api-core[grpc]!=2.0.*,!=2.1.*,!=2.10.*,!=2.2.*,!=2.3.*,!=2.4.*,!=2.5.*,!=2.6.*,!=2.7.*,!=2.8.*,!=2.9.*,<3.0.0dev,>=1.34.1->google-maps-places) (1.63.1)\n",
      "Requirement already satisfied: requests<3.0.0.dev0,>=2.18.0 in c:\\users\\anke_\\genaiwork\\touchgrass\\.venv\\lib\\site-packages (from google-api-core!=2.0.*,!=2.1.*,!=2.10.*,!=2.2.*,!=2.3.*,!=2.4.*,!=2.5.*,!=2.6.*,!=2.7.*,!=2.8.*,!=2.9.*,<3.0.0dev,>=1.34.1->google-api-core[grpc]!=2.0.*,!=2.1.*,!=2.10.*,!=2.2.*,!=2.3.*,!=2.4.*,!=2.5.*,!=2.6.*,!=2.7.*,!=2.8.*,!=2.9.*,<3.0.0dev,>=1.34.1->google-maps-places) (2.32.3)\n",
      "Requirement already satisfied: grpcio<2.0dev,>=1.33.2 in c:\\users\\anke_\\genaiwork\\touchgrass\\.venv\\lib\\site-packages (from google-api-core[grpc]!=2.0.*,!=2.1.*,!=2.10.*,!=2.2.*,!=2.3.*,!=2.4.*,!=2.5.*,!=2.6.*,!=2.7.*,!=2.8.*,!=2.9.*,<3.0.0dev,>=1.34.1->google-maps-places) (1.64.1)\n",
      "Requirement already satisfied: grpcio-status<2.0.dev0,>=1.33.2 in c:\\users\\anke_\\genaiwork\\touchgrass\\.venv\\lib\\site-packages (from google-api-core[grpc]!=2.0.*,!=2.1.*,!=2.10.*,!=2.2.*,!=2.3.*,!=2.4.*,!=2.5.*,!=2.6.*,!=2.7.*,!=2.8.*,!=2.9.*,<3.0.0dev,>=1.34.1->google-maps-places) (1.62.2)\n",
      "Requirement already satisfied: cachetools<6.0,>=2.0.0 in c:\\users\\anke_\\genaiwork\\touchgrass\\.venv\\lib\\site-packages (from google-auth!=2.24.0,!=2.25.0,<3.0.0dev,>=2.14.1->google-maps-places) (5.3.3)\n",
      "Requirement already satisfied: pyasn1-modules>=0.2.1 in c:\\users\\anke_\\genaiwork\\touchgrass\\.venv\\lib\\site-packages (from google-auth!=2.24.0,!=2.25.0,<3.0.0dev,>=2.14.1->google-maps-places) (0.4.0)\n",
      "Requirement already satisfied: rsa<5,>=3.1.4 in c:\\users\\anke_\\genaiwork\\touchgrass\\.venv\\lib\\site-packages (from google-auth!=2.24.0,!=2.25.0,<3.0.0dev,>=2.14.1->google-maps-places) (4.9)\n",
      "Requirement already satisfied: pyasn1<0.7.0,>=0.4.6 in c:\\users\\anke_\\genaiwork\\touchgrass\\.venv\\lib\\site-packages (from pyasn1-modules>=0.2.1->google-auth!=2.24.0,!=2.25.0,<3.0.0dev,>=2.14.1->google-maps-places) (0.6.0)\n",
      "Requirement already satisfied: charset-normalizer<4,>=2 in c:\\users\\anke_\\genaiwork\\touchgrass\\.venv\\lib\\site-packages (from requests<3.0.0.dev0,>=2.18.0->google-api-core!=2.0.*,!=2.1.*,!=2.10.*,!=2.2.*,!=2.3.*,!=2.4.*,!=2.5.*,!=2.6.*,!=2.7.*,!=2.8.*,!=2.9.*,<3.0.0dev,>=1.34.1->google-api-core[grpc]!=2.0.*,!=2.1.*,!=2.10.*,!=2.2.*,!=2.3.*,!=2.4.*,!=2.5.*,!=2.6.*,!=2.7.*,!=2.8.*,!=2.9.*,<3.0.0dev,>=1.34.1->google-maps-places) (3.3.2)\n",
      "Requirement already satisfied: idna<4,>=2.5 in c:\\users\\anke_\\genaiwork\\touchgrass\\.venv\\lib\\site-packages (from requests<3.0.0.dev0,>=2.18.0->google-api-core!=2.0.*,!=2.1.*,!=2.10.*,!=2.2.*,!=2.3.*,!=2.4.*,!=2.5.*,!=2.6.*,!=2.7.*,!=2.8.*,!=2.9.*,<3.0.0dev,>=1.34.1->google-api-core[grpc]!=2.0.*,!=2.1.*,!=2.10.*,!=2.2.*,!=2.3.*,!=2.4.*,!=2.5.*,!=2.6.*,!=2.7.*,!=2.8.*,!=2.9.*,<3.0.0dev,>=1.34.1->google-maps-places) (3.7)\n",
      "Requirement already satisfied: urllib3<3,>=1.21.1 in c:\\users\\anke_\\genaiwork\\touchgrass\\.venv\\lib\\site-packages (from requests<3.0.0.dev0,>=2.18.0->google-api-core!=2.0.*,!=2.1.*,!=2.10.*,!=2.2.*,!=2.3.*,!=2.4.*,!=2.5.*,!=2.6.*,!=2.7.*,!=2.8.*,!=2.9.*,<3.0.0dev,>=1.34.1->google-api-core[grpc]!=2.0.*,!=2.1.*,!=2.10.*,!=2.2.*,!=2.3.*,!=2.4.*,!=2.5.*,!=2.6.*,!=2.7.*,!=2.8.*,!=2.9.*,<3.0.0dev,>=1.34.1->google-maps-places) (2.2.2)\n",
      "Requirement already satisfied: certifi>=2017.4.17 in c:\\users\\anke_\\genaiwork\\touchgrass\\.venv\\lib\\site-packages (from requests<3.0.0.dev0,>=2.18.0->google-api-core!=2.0.*,!=2.1.*,!=2.10.*,!=2.2.*,!=2.3.*,!=2.4.*,!=2.5.*,!=2.6.*,!=2.7.*,!=2.8.*,!=2.9.*,<3.0.0dev,>=1.34.1->google-api-core[grpc]!=2.0.*,!=2.1.*,!=2.10.*,!=2.2.*,!=2.3.*,!=2.4.*,!=2.5.*,!=2.6.*,!=2.7.*,!=2.8.*,!=2.9.*,<3.0.0dev,>=1.34.1->google-maps-places) (2024.6.2)\n",
      "Downloading google_maps_places-0.1.15-py3-none-any.whl (74 kB)\n",
      "   ---------------------------------------- 0.0/74.6 kB ? eta -:--:--\n",
      "   ---------------------------------------- 74.6/74.6 kB 4.3 MB/s eta 0:00:00\n",
      "Downloading google_geo_type-0.3.7-py3-none-any.whl (11 kB)\n",
      "Installing collected packages: google-geo-type, google-maps-places\n",
      "Successfully installed google-geo-type-0.3.7 google-maps-places-0.1.15\n"
     ]
    }
   ],
   "source": [
    "%pip install google-maps-places"
   ]
  },
  {
   "cell_type": "code",
   "execution_count": 2,
   "metadata": {},
   "outputs": [
    {
     "name": "stdout",
     "output_type": "stream",
     "text": [
      "Requirement already satisfied: python-dotenv in c:\\users\\anke_\\genaiwork\\touchgrass\\.venv\\lib\\site-packages (1.0.1)\n",
      "Note: you may need to restart the kernel to use updated packages.\n"
     ]
    }
   ],
   "source": [
    "%pip install python-dotenv"
   ]
  },
  {
   "cell_type": "code",
   "execution_count": 45,
   "metadata": {},
   "outputs": [],
   "source": [
    "import os\n",
    "from dotenv import load_dotenv\n",
    "load_dotenv()\n",
    "maps_key = os.getenv('GOOGLE_MAPS_API')"
   ]
  },
  {
   "cell_type": "code",
   "execution_count": 7,
   "metadata": {},
   "outputs": [],
   "source": [
    "import geocoder\n",
    "def get_current_gps_coordinates():\n",
    "    g = geocoder.ip('me')#this function is used to find the current information using our IP Add\n",
    "    if g.latlng is not None: #g.latlng tells if the coordinates are found or not\n",
    "        return g.latlng\n",
    "    else:\n",
    "        return None"
   ]
  },
  {
   "cell_type": "code",
   "execution_count": 12,
   "metadata": {},
   "outputs": [],
   "source": [
    "def construct_budget(budget):\n",
    "    price_dict = {'casual': 'PRICE_LEVEL_INEXPENSIVE', \n",
    "                  'mid-range': 'PRICE_LEVEL_MODERATE', \n",
    "                  'fine dining': ['PRICE_LEVEL_EXPENSIVE', \n",
    "                                  'PRICE_LEVEL_VERY_EXPENSIVE']\n",
    "                }\n",
    "    return price_dict[budget]"
   ]
  },
  {
   "cell_type": "code",
   "execution_count": 10,
   "metadata": {},
   "outputs": [],
   "source": [
    "import requests\n",
    "def get_maps_coordinates():\n",
    "    url = f'https://www.googleapis.com/geolocation/v1/geolocate?key={maps_key}'\n",
    "\n",
    "    coordinates = requests.post(url).json()\n",
    "    # return a tuple with latitude and longitude\n",
    "    return (coordinates['location']['lat'], coordinates['location']['lng'])"
   ]
  },
  {
   "cell_type": "code",
   "execution_count": 23,
   "metadata": {},
   "outputs": [
    {
     "name": "stdout",
     "output_type": "stream",
     "text": [
      "Collecting google-api-python-clientNote: you may need to restart the kernel to use updated packages.\n",
      "\n",
      "  Using cached google_api_python_client-2.134.0-py2.py3-none-any.whl.metadata (6.7 kB)\n",
      "Collecting google-auth-httplib2\n",
      "  Using cached google_auth_httplib2-0.2.0-py2.py3-none-any.whl.metadata (2.2 kB)\n",
      "Collecting google-auth-oauthlib\n",
      "  Using cached google_auth_oauthlib-1.2.0-py2.py3-none-any.whl.metadata (2.7 kB)\n",
      "Collecting httplib2<1.dev0,>=0.19.0 (from google-api-python-client)\n",
      "  Using cached httplib2-0.22.0-py3-none-any.whl.metadata (2.6 kB)\n",
      "Requirement already satisfied: google-auth!=2.24.0,!=2.25.0,<3.0.0.dev0,>=1.32.0 in c:\\users\\anke_\\genaiwork\\touchgrass\\.venv\\lib\\site-packages (from google-api-python-client) (2.30.0)\n",
      "Requirement already satisfied: google-api-core!=2.0.*,!=2.1.*,!=2.2.*,!=2.3.0,<3.0.0.dev0,>=1.31.5 in c:\\users\\anke_\\genaiwork\\touchgrass\\.venv\\lib\\site-packages (from google-api-python-client) (2.19.0)\n",
      "Collecting uritemplate<5,>=3.0.1 (from google-api-python-client)\n",
      "  Using cached uritemplate-4.1.1-py2.py3-none-any.whl.metadata (2.9 kB)\n",
      "Collecting requests-oauthlib>=0.7.0 (from google-auth-oauthlib)\n",
      "  Using cached requests_oauthlib-2.0.0-py2.py3-none-any.whl.metadata (11 kB)\n",
      "Requirement already satisfied: googleapis-common-protos<2.0.dev0,>=1.56.2 in c:\\users\\anke_\\genaiwork\\touchgrass\\.venv\\lib\\site-packages (from google-api-core!=2.0.*,!=2.1.*,!=2.2.*,!=2.3.0,<3.0.0.dev0,>=1.31.5->google-api-python-client) (1.63.1)\n",
      "Requirement already satisfied: protobuf!=3.20.0,!=3.20.1,!=4.21.0,!=4.21.1,!=4.21.2,!=4.21.3,!=4.21.4,!=4.21.5,<5.0.0.dev0,>=3.19.5 in c:\\users\\anke_\\genaiwork\\touchgrass\\.venv\\lib\\site-packages (from google-api-core!=2.0.*,!=2.1.*,!=2.2.*,!=2.3.0,<3.0.0.dev0,>=1.31.5->google-api-python-client) (4.25.3)\n",
      "Requirement already satisfied: proto-plus<2.0.0dev,>=1.22.3 in c:\\users\\anke_\\genaiwork\\touchgrass\\.venv\\lib\\site-packages (from google-api-core!=2.0.*,!=2.1.*,!=2.2.*,!=2.3.0,<3.0.0.dev0,>=1.31.5->google-api-python-client) (1.24.0)\n",
      "Requirement already satisfied: requests<3.0.0.dev0,>=2.18.0 in c:\\users\\anke_\\genaiwork\\touchgrass\\.venv\\lib\\site-packages (from google-api-core!=2.0.*,!=2.1.*,!=2.2.*,!=2.3.0,<3.0.0.dev0,>=1.31.5->google-api-python-client) (2.32.3)\n",
      "Requirement already satisfied: cachetools<6.0,>=2.0.0 in c:\\users\\anke_\\genaiwork\\touchgrass\\.venv\\lib\\site-packages (from google-auth!=2.24.0,!=2.25.0,<3.0.0.dev0,>=1.32.0->google-api-python-client) (5.3.3)\n",
      "Requirement already satisfied: pyasn1-modules>=0.2.1 in c:\\users\\anke_\\genaiwork\\touchgrass\\.venv\\lib\\site-packages (from google-auth!=2.24.0,!=2.25.0,<3.0.0.dev0,>=1.32.0->google-api-python-client) (0.4.0)\n",
      "Requirement already satisfied: rsa<5,>=3.1.4 in c:\\users\\anke_\\genaiwork\\touchgrass\\.venv\\lib\\site-packages (from google-auth!=2.24.0,!=2.25.0,<3.0.0.dev0,>=1.32.0->google-api-python-client) (4.9)\n",
      "Collecting pyparsing!=3.0.0,!=3.0.1,!=3.0.2,!=3.0.3,<4,>=2.4.2 (from httplib2<1.dev0,>=0.19.0->google-api-python-client)\n",
      "  Downloading pyparsing-3.1.2-py3-none-any.whl.metadata (5.1 kB)\n",
      "Collecting oauthlib>=3.0.0 (from requests-oauthlib>=0.7.0->google-auth-oauthlib)\n",
      "  Downloading oauthlib-3.2.2-py3-none-any.whl.metadata (7.5 kB)\n",
      "Requirement already satisfied: pyasn1<0.7.0,>=0.4.6 in c:\\users\\anke_\\genaiwork\\touchgrass\\.venv\\lib\\site-packages (from pyasn1-modules>=0.2.1->google-auth!=2.24.0,!=2.25.0,<3.0.0.dev0,>=1.32.0->google-api-python-client) (0.6.0)\n",
      "Requirement already satisfied: charset-normalizer<4,>=2 in c:\\users\\anke_\\genaiwork\\touchgrass\\.venv\\lib\\site-packages (from requests<3.0.0.dev0,>=2.18.0->google-api-core!=2.0.*,!=2.1.*,!=2.2.*,!=2.3.0,<3.0.0.dev0,>=1.31.5->google-api-python-client) (3.3.2)\n",
      "Requirement already satisfied: idna<4,>=2.5 in c:\\users\\anke_\\genaiwork\\touchgrass\\.venv\\lib\\site-packages (from requests<3.0.0.dev0,>=2.18.0->google-api-core!=2.0.*,!=2.1.*,!=2.2.*,!=2.3.0,<3.0.0.dev0,>=1.31.5->google-api-python-client) (3.7)\n",
      "Requirement already satisfied: urllib3<3,>=1.21.1 in c:\\users\\anke_\\genaiwork\\touchgrass\\.venv\\lib\\site-packages (from requests<3.0.0.dev0,>=2.18.0->google-api-core!=2.0.*,!=2.1.*,!=2.2.*,!=2.3.0,<3.0.0.dev0,>=1.31.5->google-api-python-client) (2.2.2)\n",
      "Requirement already satisfied: certifi>=2017.4.17 in c:\\users\\anke_\\genaiwork\\touchgrass\\.venv\\lib\\site-packages (from requests<3.0.0.dev0,>=2.18.0->google-api-core!=2.0.*,!=2.1.*,!=2.2.*,!=2.3.0,<3.0.0.dev0,>=1.31.5->google-api-python-client) (2024.6.2)\n",
      "Using cached google_api_python_client-2.134.0-py2.py3-none-any.whl (11.9 MB)\n",
      "Using cached google_auth_httplib2-0.2.0-py2.py3-none-any.whl (9.3 kB)\n",
      "Using cached google_auth_oauthlib-1.2.0-py2.py3-none-any.whl (24 kB)\n",
      "Using cached httplib2-0.22.0-py3-none-any.whl (96 kB)\n",
      "Using cached requests_oauthlib-2.0.0-py2.py3-none-any.whl (24 kB)\n",
      "Using cached uritemplate-4.1.1-py2.py3-none-any.whl (10 kB)\n",
      "Downloading oauthlib-3.2.2-py3-none-any.whl (151 kB)\n",
      "   ---------------------------------------- 0.0/151.7 kB ? eta -:--:--\n",
      "   ---------------------------------------- 151.7/151.7 kB 8.8 MB/s eta 0:00:00\n",
      "Downloading pyparsing-3.1.2-py3-none-any.whl (103 kB)\n",
      "   ---------------------------------------- 0.0/103.2 kB ? eta -:--:--\n",
      "   ---------------------------------------- 103.2/103.2 kB 5.8 MB/s eta 0:00:00\n",
      "Installing collected packages: uritemplate, pyparsing, oauthlib, requests-oauthlib, httplib2, google-auth-oauthlib, google-auth-httplib2, google-api-python-client\n",
      "Successfully installed google-api-python-client-2.134.0 google-auth-httplib2-0.2.0 google-auth-oauthlib-1.2.0 httplib2-0.22.0 oauthlib-3.2.2 pyparsing-3.1.2 requests-oauthlib-2.0.0 uritemplate-4.1.1\n"
     ]
    }
   ],
   "source": [
    "%pip install google-api-python-client google-auth-httplib2 google-auth-oauthlib"
   ]
  },
  {
   "cell_type": "code",
   "execution_count": 1,
   "metadata": {},
   "outputs": [],
   "source": [
    "import os\n",
    "import datetime\n",
    "from google_auth_oauthlib.flow import InstalledAppFlow\n",
    "from googleapiclient.discovery import build\n",
    "from google.oauth2.credentials import Credentials\n",
    "from google.auth.transport.requests import Request\n",
    "\n",
    "def create_service(client_secret_file, api_name, api_version, *scopes, prefix=''):\n",
    "    CLIENT_SECRET_FILE = client_secret_file\n",
    "    API_SERVICE_NAME = api_name\n",
    "    API_VERSION = api_version\n",
    "    SCOPES = [scope for scope in scopes[0]]\n",
    "    \n",
    "    creds = None\n",
    "    working_dir = os.getcwd()\n",
    "    token_dir = 'token_files'\n",
    "    token_file = f'token_{API_SERVICE_NAME}_{API_VERSION}{prefix}.json'\n",
    "\n",
    "    ### Check if token dir exists first, if not, create the folder\n",
    "    if not os.path.exists(os.path.join(working_dir, token_dir)):\n",
    "        os.mkdir(os.path.join(working_dir, token_dir))\n",
    "\n",
    "    if os.path.exists(os.path.join(working_dir, token_dir, token_file)):\n",
    "        creds = Credentials.from_authorized_user_file(os.path.join(working_dir, token_dir, token_file), SCOPES)\n",
    "    \n",
    "    if not creds or not creds.valid:\n",
    "        if creds and creds.expired and creds.refresh_token:\n",
    "            creds.refresh(Request())\n",
    "        else:\n",
    "            flow = InstalledAppFlow.from_client_secrets_file(CLIENT_SECRET_FILE, SCOPES)\n",
    "            creds = flow.run_local_server(port=0)\n",
    "\n",
    "        with open(os.path.join(working_dir, token_dir, token_file), 'w') as token:\n",
    "            token.write(creds.to_json())\n",
    "\n",
    "    try:\n",
    "        service = build(API_SERVICE_NAME, API_VERSION, credentials=creds, static_discovery=False)\n",
    "        print(API_SERVICE_NAME, API_VERSION, 'service created successfully')\n",
    "        return service\n",
    "    except Exception as e:\n",
    "        print(e)\n",
    "        print(f'Failed to create service instance for {API_SERVICE_NAME}')\n",
    "        os.remove(os.path.join(working_dir, token_dir, token_file))\n",
    "        return None\n",
    "\n",
    "def convert_to_RFC_datetime(year=1900, month=1, day=1, hour=0, minute=0):\n",
    "    dt = datetime.datetime(year, month, day, hour, minute, 0).isoformat() + 'Z'\n",
    "    return dt"
   ]
  },
  {
   "cell_type": "code",
   "execution_count": 36,
   "metadata": {},
   "outputs": [],
   "source": [
    "def text_search(query, budget, num_recs, latitude, longitude):\n",
    "    request_body = {\n",
    "        'textQuery': query,\n",
    "        'maxResultCount': num_recs,\n",
    "        'locationBias': {\n",
    "            'circle': {\n",
    "                'center': {\n",
    "                    'latitude': latitude,\n",
    "                    'longitude': longitude,\n",
    "                },\n",
    "                'radius': 1000\n",
    "            }\n",
    "        },\n",
    "        'rankPreference': \"RELEVANCE\",\n",
    "        'priceLevels': construct_budget(budget),\n",
    "    }\n",
    "    return request_body"
   ]
  },
  {
   "cell_type": "code",
   "execution_count": 37,
   "metadata": {},
   "outputs": [],
   "source": [
    "def places_hub(places_type, query, budget, num_recs):\n",
    "    client_secret_file = 'client_secret_desktop.json'\n",
    "    API_NAME = 'places'\n",
    "    API_VERSION = 'v1'\n",
    "    SCOPES = ['https://www.googleapis.com/auth/cloud-platform']\n",
    "    service = create_service(client_secret_file, API_NAME, API_VERSION, SCOPES)\n",
    "    \n",
    "    coordinates = get_maps_coordinates()\n",
    "    try:\n",
    "        assert coordinates is not None, \"coordinates weren't retrieved\"\n",
    "        latitude, longitude = coordinates\n",
    "    except Exception as e:\n",
    "        print(e)\n",
    "    \n",
    "    if places_type == 'text_search':\n",
    "        request_body = text_search(query, budget, num_recs, latitude, longitude )\n",
    "        response = service.places().searchText(\n",
    "        body = request_body,\n",
    "        # no spaces in the fields parameter!!!\n",
    "        fields = 'places.displayName,places.primaryType,places.rating,places.userRatingCount,places.priceLevel'\n",
    "        ).execute()\n",
    "        \n",
    "    elif places_type == 'nearby_search':\n",
    "        request_body = 'pending'\n",
    "        \n",
    "    print(response)\n",
    "    return response['places']"
   ]
  },
  {
   "cell_type": "code",
   "execution_count": 42,
   "metadata": {},
   "outputs": [
    {
     "name": "stdout",
     "output_type": "stream",
     "text": [
      "places v1 service created successfully\n",
      "{'places': [{'rating': 4.2, 'priceLevel': 'PRICE_LEVEL_MODERATE', 'userRatingCount': 471, 'displayName': {'text': 'Limón', 'languageCode': 'en'}, 'primaryType': 'restaurant'}, {'rating': 4.7, 'priceLevel': 'PRICE_LEVEL_MODERATE', 'userRatingCount': 88, 'displayName': {'text': \"Emelina's 2\", 'languageCode': 'en'}, 'primaryType': 'restaurant'}, {'rating': 4.4, 'priceLevel': 'PRICE_LEVEL_MODERATE', 'userRatingCount': 249, 'displayName': {'text': 'Pacific Catch', 'languageCode': 'en'}, 'primaryType': 'seafood_restaurant'}, {'rating': 4.7, 'priceLevel': 'PRICE_LEVEL_MODERATE', 'userRatingCount': 105, 'displayName': {'text': 'Inka’s restaurant', 'languageCode': 'en'}, 'primaryType': 'restaurant'}, {'rating': 4.6, 'priceLevel': 'PRICE_LEVEL_MODERATE', 'userRatingCount': 1572, 'displayName': {'text': 'Mariscos Costa Alegre', 'languageCode': 'en'}, 'primaryType': 'mexican_restaurant'}]}\n"
     ]
    },
    {
     "data": {
      "text/plain": [
       "[{'rating': 4.2,\n",
       "  'priceLevel': 'PRICE_LEVEL_MODERATE',\n",
       "  'userRatingCount': 471,\n",
       "  'displayName': {'text': 'Limón', 'languageCode': 'en'},\n",
       "  'primaryType': 'restaurant'},\n",
       " {'rating': 4.7,\n",
       "  'priceLevel': 'PRICE_LEVEL_MODERATE',\n",
       "  'userRatingCount': 88,\n",
       "  'displayName': {'text': \"Emelina's 2\", 'languageCode': 'en'},\n",
       "  'primaryType': 'restaurant'},\n",
       " {'rating': 4.4,\n",
       "  'priceLevel': 'PRICE_LEVEL_MODERATE',\n",
       "  'userRatingCount': 249,\n",
       "  'displayName': {'text': 'Pacific Catch', 'languageCode': 'en'},\n",
       "  'primaryType': 'seafood_restaurant'},\n",
       " {'rating': 4.7,\n",
       "  'priceLevel': 'PRICE_LEVEL_MODERATE',\n",
       "  'userRatingCount': 105,\n",
       "  'displayName': {'text': 'Inka’s restaurant', 'languageCode': 'en'},\n",
       "  'primaryType': 'restaurant'},\n",
       " {'rating': 4.6,\n",
       "  'priceLevel': 'PRICE_LEVEL_MODERATE',\n",
       "  'userRatingCount': 1572,\n",
       "  'displayName': {'text': 'Mariscos Costa Alegre', 'languageCode': 'en'},\n",
       "  'primaryType': 'mexican_restaurant'}]"
      ]
     },
     "execution_count": 42,
     "metadata": {},
     "output_type": "execute_result"
    }
   ],
   "source": [
    "places_hub('text_search', 'ceviche', 'mid-range', 5)"
   ]
  }
 ],
 "metadata": {
  "kernelspec": {
   "display_name": "Python 3",
   "language": "python",
   "name": "python3"
  },
  "language_info": {
   "codemirror_mode": {
    "name": "ipython",
    "version": 3
   },
   "file_extension": ".py",
   "mimetype": "text/x-python",
   "name": "python",
   "nbconvert_exporter": "python",
   "pygments_lexer": "ipython3",
   "version": "3.11.1"
  }
 },
 "nbformat": 4,
 "nbformat_minor": 2
}
